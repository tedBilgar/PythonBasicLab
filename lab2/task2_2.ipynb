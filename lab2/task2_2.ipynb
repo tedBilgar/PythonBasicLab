{
 "cells": [
  {
   "cell_type": "markdown",
   "metadata": {},
   "source": [
    "# Ввод и вывод данных\n",
    "\n",
    "#### Файлы NumPy (npy, npz)\n",
    "load(file[, mmap_mode, allow_pickle, …]) - загрузка массивов из файлов формата .npy, .npz, а также pickle объектов и pickle файлов.\n",
    "\n",
    "save(file, arr[, allow_pickle, fix_imports]) - сохранение массива в .npy двоичном файле.\n",
    "\n",
    "savez(file, *args, **kwds) - сохранение нескольких массивов в несжатом .npz файле.\n",
    "\n",
    "savez_compressed(file, *args, **kwds) - сохранение нескольких массивов в сжатом .npz файле.\n",
    "\n",
    "#### Текстовые файлы\n",
    "loadtxt(fname[, dtype, comments, delimiter, …]) - Загрузка данных из текстового файла.\n",
    "\n",
    "savetxt(fname, X[, fmt, delimiter, newline, …]) - Сохранение массива в текстовом файле.\n",
    "\n",
    "genfromtxt(fname[, dtype, comments, …]) - Загрузка данных из текстового файла с указанием правил обработки отсутствующих и прочих значений.\n",
    "\n",
    "fromregex(file, regexp, dtype[, encoding]) - Создание массива из данных текстового файла с использованием регулярных выражений.\n",
    "\n",
    "fromstring(string[, dtype, count, sep]) - Создание одномерного массива из данных в строке.\n",
    "\n",
    "ndarray.tofile(fid[, sep, format]) - Запись массива в текстовый или двоичный (по умолчанию) файл.\n",
    "\n",
    "ndarray.tolist() - Представление массива NumPy в виде списка Python.\n"
   ]
  },
  {
   "cell_type": "code",
   "execution_count": 1,
   "metadata": {
    "pycharm": {
     "is_executing": false
    }
   },
   "outputs": [
    {
     "traceback": [
      "\u001b[0;31m---------------------------------------------------------------------------\u001b[0m",
      "\u001b[0;31mOSError\u001b[0m                                   Traceback (most recent call last)",
      "\u001b[0;32m<ipython-input-1-ab8eed1d95a0>\u001b[0m in \u001b[0;36m<module>\u001b[0;34m\u001b[0m\n\u001b[1;32m      1\u001b[0m \u001b[0;32mimport\u001b[0m \u001b[0mnumpy\u001b[0m \u001b[0;32mas\u001b[0m \u001b[0mnp\u001b[0m\u001b[0;34m\u001b[0m\u001b[0;34m\u001b[0m\u001b[0m\n\u001b[1;32m      2\u001b[0m \u001b[0;34m\u001b[0m\u001b[0m\n\u001b[0;32m----> 3\u001b[0;31m \u001b[0marr\u001b[0m \u001b[0;34m=\u001b[0m \u001b[0mnp\u001b[0m\u001b[0;34m.\u001b[0m\u001b[0mloadtxt\u001b[0m\u001b[0;34m(\u001b[0m\u001b[0;34m'array_ex.txt'\u001b[0m\u001b[0;34m,\u001b[0m \u001b[0mdelimiter\u001b[0m\u001b[0;34m=\u001b[0m\u001b[0;34m', '\u001b[0m\u001b[0;34m)\u001b[0m\u001b[0;34m\u001b[0m\u001b[0;34m\u001b[0m\u001b[0m\n\u001b[0m\u001b[1;32m      4\u001b[0m \u001b[0mprint\u001b[0m\u001b[0;34m(\u001b[0m\u001b[0marr\u001b[0m\u001b[0;34m)\u001b[0m\u001b[0;34m\u001b[0m\u001b[0;34m\u001b[0m\u001b[0m\n\u001b[1;32m      5\u001b[0m \u001b[0;34m\u001b[0m\u001b[0m\n",
      "\u001b[0;32m~/PycharmProjects/PythonBasicLabs/env_lab/lib/python3.7/site-packages/numpy/lib/npyio.py\u001b[0m in \u001b[0;36mloadtxt\u001b[0;34m(fname, dtype, comments, delimiter, converters, skiprows, usecols, unpack, ndmin, encoding, max_rows)\u001b[0m\n\u001b[1;32m    966\u001b[0m             \u001b[0mfname\u001b[0m \u001b[0;34m=\u001b[0m \u001b[0mos_fspath\u001b[0m\u001b[0;34m(\u001b[0m\u001b[0mfname\u001b[0m\u001b[0;34m)\u001b[0m\u001b[0;34m\u001b[0m\u001b[0;34m\u001b[0m\u001b[0m\n\u001b[1;32m    967\u001b[0m         \u001b[0;32mif\u001b[0m \u001b[0m_is_string_like\u001b[0m\u001b[0;34m(\u001b[0m\u001b[0mfname\u001b[0m\u001b[0;34m)\u001b[0m\u001b[0;34m:\u001b[0m\u001b[0;34m\u001b[0m\u001b[0;34m\u001b[0m\u001b[0m\n\u001b[0;32m--> 968\u001b[0;31m             \u001b[0mfh\u001b[0m \u001b[0;34m=\u001b[0m \u001b[0mnp\u001b[0m\u001b[0;34m.\u001b[0m\u001b[0mlib\u001b[0m\u001b[0;34m.\u001b[0m\u001b[0m_datasource\u001b[0m\u001b[0;34m.\u001b[0m\u001b[0mopen\u001b[0m\u001b[0;34m(\u001b[0m\u001b[0mfname\u001b[0m\u001b[0;34m,\u001b[0m \u001b[0;34m'rt'\u001b[0m\u001b[0;34m,\u001b[0m \u001b[0mencoding\u001b[0m\u001b[0;34m=\u001b[0m\u001b[0mencoding\u001b[0m\u001b[0;34m)\u001b[0m\u001b[0;34m\u001b[0m\u001b[0;34m\u001b[0m\u001b[0m\n\u001b[0m\u001b[1;32m    969\u001b[0m             \u001b[0mfencoding\u001b[0m \u001b[0;34m=\u001b[0m \u001b[0mgetattr\u001b[0m\u001b[0;34m(\u001b[0m\u001b[0mfh\u001b[0m\u001b[0;34m,\u001b[0m \u001b[0;34m'encoding'\u001b[0m\u001b[0;34m,\u001b[0m \u001b[0;34m'latin1'\u001b[0m\u001b[0;34m)\u001b[0m\u001b[0;34m\u001b[0m\u001b[0;34m\u001b[0m\u001b[0m\n\u001b[1;32m    970\u001b[0m             \u001b[0mfh\u001b[0m \u001b[0;34m=\u001b[0m \u001b[0miter\u001b[0m\u001b[0;34m(\u001b[0m\u001b[0mfh\u001b[0m\u001b[0;34m)\u001b[0m\u001b[0;34m\u001b[0m\u001b[0;34m\u001b[0m\u001b[0m\n",
      "\u001b[0;32m~/PycharmProjects/PythonBasicLabs/env_lab/lib/python3.7/site-packages/numpy/lib/_datasource.py\u001b[0m in \u001b[0;36mopen\u001b[0;34m(path, mode, destpath, encoding, newline)\u001b[0m\n\u001b[1;32m    267\u001b[0m \u001b[0;34m\u001b[0m\u001b[0m\n\u001b[1;32m    268\u001b[0m     \u001b[0mds\u001b[0m \u001b[0;34m=\u001b[0m \u001b[0mDataSource\u001b[0m\u001b[0;34m(\u001b[0m\u001b[0mdestpath\u001b[0m\u001b[0;34m)\u001b[0m\u001b[0;34m\u001b[0m\u001b[0;34m\u001b[0m\u001b[0m\n\u001b[0;32m--> 269\u001b[0;31m     \u001b[0;32mreturn\u001b[0m \u001b[0mds\u001b[0m\u001b[0;34m.\u001b[0m\u001b[0mopen\u001b[0m\u001b[0;34m(\u001b[0m\u001b[0mpath\u001b[0m\u001b[0;34m,\u001b[0m \u001b[0mmode\u001b[0m\u001b[0;34m,\u001b[0m \u001b[0mencoding\u001b[0m\u001b[0;34m=\u001b[0m\u001b[0mencoding\u001b[0m\u001b[0;34m,\u001b[0m \u001b[0mnewline\u001b[0m\u001b[0;34m=\u001b[0m\u001b[0mnewline\u001b[0m\u001b[0;34m)\u001b[0m\u001b[0;34m\u001b[0m\u001b[0;34m\u001b[0m\u001b[0m\n\u001b[0m\u001b[1;32m    270\u001b[0m \u001b[0;34m\u001b[0m\u001b[0m\n\u001b[1;32m    271\u001b[0m \u001b[0;34m\u001b[0m\u001b[0m\n",
      "\u001b[0;32m~/PycharmProjects/PythonBasicLabs/env_lab/lib/python3.7/site-packages/numpy/lib/_datasource.py\u001b[0m in \u001b[0;36mopen\u001b[0;34m(self, path, mode, encoding, newline)\u001b[0m\n\u001b[1;32m    621\u001b[0m                                       encoding=encoding, newline=newline)\n\u001b[1;32m    622\u001b[0m         \u001b[0;32melse\u001b[0m\u001b[0;34m:\u001b[0m\u001b[0;34m\u001b[0m\u001b[0;34m\u001b[0m\u001b[0m\n\u001b[0;32m--> 623\u001b[0;31m             \u001b[0;32mraise\u001b[0m \u001b[0mIOError\u001b[0m\u001b[0;34m(\u001b[0m\u001b[0;34m\"%s not found.\"\u001b[0m \u001b[0;34m%\u001b[0m \u001b[0mpath\u001b[0m\u001b[0;34m)\u001b[0m\u001b[0;34m\u001b[0m\u001b[0;34m\u001b[0m\u001b[0m\n\u001b[0m\u001b[1;32m    624\u001b[0m \u001b[0;34m\u001b[0m\u001b[0m\n\u001b[1;32m    625\u001b[0m \u001b[0;34m\u001b[0m\u001b[0m\n",
      "\u001b[0;31mOSError\u001b[0m: array_ex.txt not found."
     ],
     "ename": "OSError",
     "evalue": "array_ex.txt not found.",
     "output_type": "error"
    }
   ],
   "source": [
    "import numpy as np\n",
    "\n",
    "arr = np.loadtxt('array_ex.txt', delimiter=', ')\n",
    "print(arr)"
   ]
  },
  {
   "cell_type": "code",
   "execution_count": null,
   "metadata": {},
   "outputs": [],
   "source": [
    "np. savetxt('array_ex2.txt', arr, delimiter=', ')"
   ]
  },
  {
   "cell_type": "markdown",
   "metadata": {},
   "source": [
    "\n",
    "####  Необработанные бинарные файлы\n",
    "fromfile(file[, dtype, count, sep]) - Создание массива из данных в текстовом или двоичном файле.\n",
    "\n",
    "ndarray.tofile(fid[, sep, format]) - Запись массива в текстовый или двоичный (по умолчанию) файл.\n",
    "\n",
    "####  Строковое представление\n",
    "array2string(a[, max_line_width, precision, …]) - Возвращает строковое представление массива.\n",
    "\n",
    "array_repr(arr[, max_line_width, precision, …]) - Возвращает строковое представление массива вместе с информацией о его типе и типе его данных.\n",
    "\n",
    "array_str(a[, max_line_width, precision, …]) - Возвращает строковое представление массива.\n",
    "\n",
    "format_float_positional(x[, precision, …]) - Возвращает строковое представление числа с плавающей точкой.\n",
    "\n",
    "format_float_scientific(x[, precision, …]) - Возвращает строковое представление числа с плавающей точкой в научной нотации.\n",
    "\n",
    "####  Параметры текстового представления\n",
    "\n",
    "set_printoptions([precision, threshold, …]) - Позволяет настроить параметры вывода массивов на экран.\n",
    "\n",
    "get_printoptions() - Возвращает текущие параметры вывода массивов на экран.\n",
    "\n",
    "\n",
    "####  Источники данных\n",
    "\n",
    "DataSource([destpath]) - Использование локальных и сетевых источников данных по указанному пути или URL-адресу.\n",
    "\n",
    "####  Системы счисления\n",
    "\n",
    "binary_repr(num[, width]) - Возвращает строковое представление числа в двоичной системе счисления.\n",
    "\n",
    "base_repr(number[, base, padding]) - Возвращает строковое представление числа в заданной системе счисления."
   ]
  },
  {
   "cell_type": "markdown",
   "metadata": {},
   "source": [
    "## Простая визуализация"
   ]
  },
  {
   "cell_type": "markdown",
   "metadata": {},
   "source": [
    "### Pyplot\n",
    "\n",
    "Основным элементом изображения, которое строит pyplot является Фигура (Figure), на нее накладываются один или более графиков, осей, надписей и т.п. Для построения графика используется команда plot()."
   ]
  },
  {
   "cell_type": "code",
   "execution_count": null,
   "metadata": {},
   "outputs": [],
   "source": [
    "import matplotlib.pyplot as plt\n",
    "plt.plot()"
   ]
  },
  {
   "cell_type": "code",
   "execution_count": null,
   "metadata": {},
   "outputs": [],
   "source": [
    "plt.plot([1, 7, 3, 5, 11, 1]) # Значения из этого списка будут отложены по оси ординат (ось y), а по оси абсцисс (ось x) будут отложены индексы элементов массива"
   ]
  },
  {
   "cell_type": "code",
   "execution_count": null,
   "metadata": {},
   "outputs": [],
   "source": [
    "# Зададим значения по осям\n",
    "plt.plot([1, 5, 10, 15, 20], [1, 7, 3, 5, 11]) "
   ]
  },
  {
   "cell_type": "code",
   "execution_count": null,
   "metadata": {},
   "outputs": [],
   "source": [
    "import numpy as np\n",
    "x = np.linspace(0,3,5)\n",
    "y = np.linspace(0,8,5)\n",
    "plt.plot(x, y) # График прямой\n",
    "plt.show() "
   ]
  },
  {
   "cell_type": "code",
   "execution_count": null,
   "metadata": {},
   "outputs": [],
   "source": [
    "plt.plot(x, y, 'o')"
   ]
  },
  {
   "cell_type": "code",
   "execution_count": null,
   "metadata": {},
   "outputs": [],
   "source": [
    "# Построение графика\n",
    "plt.title(\"Линейная зависимость y = x\") # заголовок\n",
    "plt.xlabel(\"x\") # ось абсцисс\n",
    "plt.ylabel(\"y\") # ось ординат\n",
    "plt.grid()      # включение отображение сетки\n",
    "plt.plot(x, y)  # построение графика"
   ]
  },
  {
   "cell_type": "code",
   "execution_count": null,
   "metadata": {},
   "outputs": [],
   "source": [
    "plt.plot(x, y, \"r--\")  # построение графика"
   ]
  },
  {
   "cell_type": "markdown",
   "metadata": {},
   "source": [
    "# [SciPy](https://docs.scipy.org/doc/numpy/docs/howto_document.html#howto-document)\n",
    "\n",
    "SciPy представляет собой совокупность математических алгоритмов и функций, построенных как расширение Numpy на Python. Он значительно расширяет возможности интерактивной сессии Python, предоставляя пользователю команды высокого уровня и классы для управления и визуализации данных. Со SciPy интерактивный сеанс Python становится средой обработки данных и системой прототипирования соперничающей с такими системами, как MATLAB, IDL, Octave, R-Lab, and SciLab.\n",
    "\n",
    "\n",
    "| Подпакет  |Описание  | \n",
    "|:------------- |:---------------| \n",
    "|cluster | Алгоритмы кластеризации| \n",
    "| constants| Физические и математические константы| \n",
    "| fftpack| Подпрограммы быстрого преобразования Фурье| \n",
    "| integrate| Интегрирование и решение обыкновенных дифференциальных уравнений| \n",
    "| interpolate| Интерполяционные и сглаживающие сплайны| \n",
    "| io| Ввод и вывод| \n",
    "| linalg| Линейная алгебра| \n",
    "| ndimage| обработка N-мерных изображений| \n",
    "| odr| Мультиплексирование с ортогональным расстояние регрессии| \n",
    "| optimize| Оптимизация и поиск корневых структур| \n",
    "| signal| Обработка сигналов| \n",
    "| sparse| Разреженные матрицы и связанные с ними процедуры| \n",
    "| spatial| Пространственные структуры данных и алгоритмы| \n",
    "| special| Специальные функции| \n",
    "| stats| Статистические распределения и функции| \n",
    "| weave| C/C ++ интеграция| \n"
   ]
  },
  {
   "cell_type": "markdown",
   "metadata": {},
   "source": [
    "### Ввод вывод\n",
    "Пример работы с файлами Matlab"
   ]
  },
  {
   "cell_type": "code",
   "execution_count": null,
   "metadata": {},
   "outputs": [],
   "source": [
    "from scipy import io as spio\n",
    "\n",
    "a = np.ones((3, 3))\n",
    "spio.savemat('file.mat', {'a': a})\n",
    "\n",
    "data = spio.loadmat('file.mat')\n",
    "print(data['a'])"
   ]
  },
  {
   "cell_type": "markdown",
   "metadata": {},
   "source": [
    "### Линейная алгебра"
   ]
  },
  {
   "cell_type": "code",
   "execution_count": null,
   "metadata": {},
   "outputs": [],
   "source": [
    "from scipy import linalg"
   ]
  },
  {
   "cell_type": "markdown",
   "metadata": {},
   "source": [
    "**scipy.linalg.det()** вычисляет определитель квадратной матрицы"
   ]
  },
  {
   "cell_type": "code",
   "execution_count": null,
   "metadata": {},
   "outputs": [],
   "source": [
    "arr = np.array([[1, 2],\n",
    "                [3, 4]])\n",
    "print(linalg.det(arr))\n",
    "\n",
    "\n",
    "\n",
    "arr = np.array([[3, 2],\n",
    "                [6, 4]])\n",
    "\n",
    "print(linalg.det(arr))\n",
    "\n",
    "print(linalg.det(np.ones((3, 4))))\n"
   ]
  },
  {
   "cell_type": "markdown",
   "metadata": {},
   "source": [
    "**scipy.linalg.inv()** вычисляет обратную квадратной матрицы"
   ]
  },
  {
   "cell_type": "code",
   "execution_count": null,
   "metadata": {},
   "outputs": [],
   "source": [
    "arr = np.array([[1, 2],\n",
    "                [3, 4]])\n",
    "\n",
    "iarr = linalg.inv(arr)\n",
    "print(iarr)\n",
    "\n",
    "# Сделаем проверку\n",
    "np.allclose(np.dot(arr, iarr), np.eye(2))  # Сравним результат произведения матрицы на обратную матрицу с единичной матрицей"
   ]
  },
  {
   "cell_type": "markdown",
   "metadata": {},
   "source": [
    "**scipy.linalg.svd()** разложение по сингулярным числам"
   ]
  },
  {
   "cell_type": "code",
   "execution_count": null,
   "metadata": {},
   "outputs": [],
   "source": [
    "arr = np.arange(9).reshape((3, 3)) + np.diag([1, 0, 1])\n",
    "uarr, spec, vharr = linalg.svd(arr)\n",
    "print(uarr, spec, vharr)"
   ]
  },
  {
   "cell_type": "code",
   "execution_count": null,
   "metadata": {},
   "outputs": [],
   "source": [
    "spec"
   ]
  },
  {
   "cell_type": "markdown",
   "metadata": {},
   "source": [
    "### Интерполяция"
   ]
  },
  {
   "cell_type": "code",
   "execution_count": null,
   "metadata": {},
   "outputs": [],
   "source": [
    "from scipy.interpolate import interp1d"
   ]
  },
  {
   "cell_type": "code",
   "execution_count": null,
   "metadata": {},
   "outputs": [],
   "source": [
    "measured_time = np.linspace(0, 1, 10)\n",
    "noise = (np.random.random(10)*2 - 1) * 1e-1\n",
    "measures = np.sin(2 * np.pi * measured_time) + noise # Функция, график которой  близок к функции синуса"
   ]
  },
  {
   "cell_type": "code",
   "execution_count": null,
   "metadata": {},
   "outputs": [],
   "source": [
    "linear_interp = interp1d(measured_time, measures) # Построим функцию линейной интерполяции\n",
    "\n",
    "interpolation_time = np.linspace(0, 1, 50) # Построим функцию линейной интерполяции\n",
    "linear_results = linear_interp(interpolation_time)"
   ]
  },
  {
   "cell_type": "code",
   "execution_count": null,
   "metadata": {},
   "outputs": [],
   "source": [
    "import matplotlib.pyplot as plt\n",
    "plt.plot(interpolation_time, linear_results) # график линии\n",
    "plt.show()"
   ]
  },
  {
   "cell_type": "code",
   "execution_count": null,
   "metadata": {},
   "outputs": [],
   "source": [
    "cubic_interp = interp1d(measured_time, measures, kind='cubic') # Построим функцию кубической интерполяции\n",
    "cubic_results = cubic_interp(interpolation_time)\n",
    "\n",
    "plt.plot(interpolation_time, cubic_results)\n",
    "plt.show()"
   ]
  },
  {
   "cell_type": "markdown",
   "metadata": {},
   "source": [
    "### Оптимизация\n",
    "\n",
    "Оптимизация - это проблема нахождения численного решения минимизации или равенства."
   ]
  },
  {
   "cell_type": "code",
   "execution_count": null,
   "metadata": {},
   "outputs": [],
   "source": [
    "from scipy import optimize"
   ]
  },
  {
   "cell_type": "code",
   "execution_count": null,
   "metadata": {},
   "outputs": [],
   "source": [
    "# Данные с шумом\n",
    "x_data = np.linspace(-5, 5, num=50)\n",
    "y_data = 2.9 * np.sin(1.5 * x_data) + np.random.normal(size=50)\n",
    "\n",
    "plt.scatter(x_data, y_data) # график точек\n",
    "plt.show()"
   ]
  },
  {
   "cell_type": "code",
   "execution_count": null,
   "metadata": {},
   "outputs": [],
   "source": [
    "def test_func(x, a, b): # Определим тестовую функцию\n",
    "    return a * np.sin(b * x)\n",
    "\n",
    "params, params_covariance = optimize.curve_fit(test_func, x_data, y_data, p0=[2, 2]) # Произведем подбор параметров a и b для наилучшей аппроксимации исходных данных\n",
    "print(params)"
   ]
  },
  {
   "cell_type": "markdown",
   "metadata": {},
   "source": [
    "### Поиск минимума скалярной функции"
   ]
  },
  {
   "cell_type": "code",
   "execution_count": null,
   "metadata": {},
   "outputs": [],
   "source": [
    "def f(x):\n",
    "    return x**2 + 10*np.sin(x)\n",
    "\n",
    "x = np.arange(-10, 10, 0.1)\n",
    "plt.plot(x, f(x)) \n",
    "plt.show()"
   ]
  },
  {
   "cell_type": "markdown",
   "metadata": {},
   "source": [
    " **scipy.optimize.minimize()** Поиск минимума в окрестности точки"
   ]
  },
  {
   "cell_type": "code",
   "execution_count": null,
   "metadata": {},
   "outputs": [],
   "source": [
    "result = optimize.minimize(f, x0=0)\n",
    "result"
   ]
  },
  {
   "cell_type": "code",
   "execution_count": null,
   "metadata": {},
   "outputs": [],
   "source": [
    "result.x # Координаты минимума"
   ]
  },
  {
   "attachments": {
    "image.png": {
     "image/png": "[encoded data removed]"
    }
   },
   "cell_type": "markdown",
   "metadata": {},
   "source": [
    "### Упражнение\n",
    "\n",
    "Постройте график функции и найдите глобальные минимумы ![image.png](attachment:image.png)"
   ]
  },
  {
   "cell_type": "markdown",
   "metadata": {},
   "source": [
    "**scipy.integrate** численное интегрирование"
   ]
  },
  {
   "cell_type": "code",
   "execution_count": null,
   "metadata": {},
   "outputs": [],
   "source": [
    "from scipy.integrate import quad\n",
    "res, err = quad(np.sin, 0, np.pi/2) # Интеграл sin(x)dx от 0 до пи/2\n",
    "res"
   ]
  },
  {
   "cell_type": "markdown",
   "metadata": {},
   "source": [
    "**Двойные интегралы**\n",
    "\n",
    "Общая форма dblquad – это **scipy.integrate.dblquad (func, a, b, gfun, hfun)**, где func – это имя интегрируемой функции, a и b – это нижний и верхний пределы переменной x соответственно, а gfun и hfun – это имена функций, которые определяют нижний и верхний пределы. переменной у."
   ]
  },
  {
   "cell_type": "markdown",
   "metadata": {},
   "source": [
    "## Упражнение\n"
   ]
  },
  {
   "attachments": {
    "image.png": {
     "image/png": "[encoded data removed]"
    }
   },
   "cell_type": "markdown",
   "metadata": {},
   "source": [
    "Вычислить интеграл ![image.png](attachment:image.png) по области 0<=x<=1, 0<=y<=1"
   ]
  },
  {
   "cell_type": "markdown",
   "metadata": {},
   "source": [
    "## Полиномы\n",
    "\n",
    "Существует два (взаимозаменяемых) способа работы с 1-мерными полиномами в SciPy. \n",
    "\n",
    "Во-первых, использовать класс poly1d из NumPy. Этот класс принимает коэффициенты или корни полинома для инициализации полинома. Затем полиномиальный объект может быть обработан в алгебраических выражениях, интегрирован, дифференцирован? оценен и выведен в форме полинома. \n",
    "Другой способ работы с многочленами — как с массивом коэффициентов: первый элемент массива дает коэффициент старшего порядка. Есть явные функции сложения, вычитания, умножения, деления, интегрирования, дифференцирования, и вычисления полиномов, представленных в виде последовательности коэффициентов."
   ]
  },
  {
   "cell_type": "code",
   "execution_count": null,
   "metadata": {
    "scrolled": false
   },
   "outputs": [],
   "source": [
    "from numpy import poly1d\n",
    "p = poly1d([3,4,5])\n",
    "print(p)\n",
    "\n",
    "print(p*p)\n",
    "\n",
    "print(p.integ(k=6))\n",
    "\n",
    "print(p.deriv())\n"
   ]
  },
  {
   "cell_type": "markdown",
   "metadata": {},
   "source": [
    "Другой способ обработки полиномов - это массив коэффициентов, при этом первый элемент массива дает коэффициент наивысшей степени. Существуют явные функции для сложения, вычитания, умножения, деления, интегрирования, дифференцирования и оценки полиномов, представленных в виде последовательностей коэффициентов."
   ]
  },
  {
   "cell_type": "markdown",
   "metadata": {},
   "source": [
    "## Упражнение\n",
    "\n",
    "p(x)= x^4+2x^3-11x^2-13x+23\n",
    " \n",
    " 1) Определить корни полинома (исп. np.roots)\n",
    " \n",
    " 2) Вычислить значения полинома в точках 5, 10, 0,5\n",
    " \n",
    " 3) Найти производную функции"
   ]
  },
  {
   "cell_type": "markdown",
   "metadata": {},
   "source": [
    "**scipy.ndimage** обработка изображений"
   ]
  },
  {
   "cell_type": "code",
   "execution_count": null,
   "metadata": {},
   "outputs": [],
   "source": [
    "from scipy import misc\n",
    "face = misc.face()\n",
    "f = misc.face()\n",
    "import matplotlib.pyplot as plt\n",
    "plt.imshow(f)\n"
   ]
  },
  {
   "cell_type": "code",
   "execution_count": null,
   "metadata": {},
   "outputs": [],
   "source": [
    "from scipy import ndimage # Сдвиг, вращение и масштабирование\n",
    "shifted_face2 = ndimage.shift(face, (50, 50), mode='nearest')\n",
    "plt.imshow(shifted_face2)"
   ]
  },
  {
   "cell_type": "code",
   "execution_count": null,
   "metadata": {},
   "outputs": [],
   "source": [
    "cropped_face = f[50:-50, 50:-50]\n",
    "plt.imshow(cropped_face)"
   ]
  },
  {
   "cell_type": "code",
   "execution_count": null,
   "metadata": {},
   "outputs": [],
   "source": [
    "zoomed_face = ndimage.zoom(f, 2)\n",
    "plt.imshow(zoomed_face)"
   ]
  },
  {
   "cell_type": "code",
   "execution_count": null,
   "metadata": {},
   "outputs": [],
   "source": [
    "rotated_face = ndimage.rotate(f, 30)\n",
    "plt.imshow(rotated_face)"
   ]
  },
  {
   "cell_type": "code",
   "execution_count": null,
   "metadata": {
    "scrolled": true
   },
   "outputs": [],
   "source": [
    "ace = misc.face(gray=True)\n",
    "face = face[:512, -512:]  # Обрезаем изображение\n",
    "\n",
    "noisy_face = np.copy(face).astype(np.float)\n",
    "noisy_face += face.std() * 0.5 * np.random.standard_normal(face.shape)\n",
    "plt.imshow(noisy_face)"
   ]
  },
  {
   "cell_type": "code",
   "execution_count": null,
   "metadata": {},
   "outputs": [],
   "source": [
    "face1 = misc.face()\n",
    "plt.imshow(face1)"
   ]
  }
 ],
 "metadata": {
  "kernelspec": {
   "display_name": "Python 3",
   "language": "python",
   "name": "python3"
  },
  "language_info": {
   "codemirror_mode": {
    "name": "ipython",
    "version": 3
   },
   "file_extension": ".py",
   "mimetype": "text/x-python",
   "name": "python",
   "nbconvert_exporter": "python",
   "pygments_lexer": "ipython3",
   "version": "3.7.3"
  },
  "pycharm": {
   "stem_cell": {
    "cell_type": "raw",
    "source": [],
    "metadata": {
     "collapsed": false
    }
   }
  }
 },
 "nbformat": 4,
 "nbformat_minor": 2
}